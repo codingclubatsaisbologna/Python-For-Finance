{
 "cells": [
  {
   "cell_type": "markdown",
   "metadata": {},
   "source": [
    "## Working with data for an ETF based on S&P 500 stock index"
   ]
  },
  {
   "cell_type": "markdown",
   "metadata": {},
   "source": [
    "### Learning Objectives:\n",
    "\n",
    "    how to generate trading signals (market positionings) in vectorized fashion\n",
    "    how to backtest a formalized strategy based on the market log returns in vectorized fashion\n",
    "    how to calculate and visualize the cumulative returns of trading strategies\n",
    "    how to calculate annualized returns and volatilities for trading strategies\n",
    "\n",
    "These are fundamentally important concepts in systematic (algorithmic) trading."
   ]
  },
  {
   "cell_type": "code",
   "execution_count": 93,
   "metadata": {
    "collapsed": true
   },
   "outputs": [],
   "source": [
    "import numpy as np\n",
    "import pandas as pd\n",
    "from pandas_datareader import data as web\n",
    "import matplotlib as mpl\n",
    "import matplotlib.pyplot as plt\n",
    "plt.style.use('ggplot')\n",
    "%matplotlib inline\n",
    "symbol = 'AAPL'\n",
    "stock_data = web.DataReader(symbol, data_source='google', start='2005-1-1')"
   ]
  },
  {
   "cell_type": "code",
   "execution_count": 94,
   "metadata": {},
   "outputs": [
    {
     "data": {
      "text/html": [
       "<div>\n",
       "<style>\n",
       "    .dataframe thead tr:only-child th {\n",
       "        text-align: right;\n",
       "    }\n",
       "\n",
       "    .dataframe thead th {\n",
       "        text-align: left;\n",
       "    }\n",
       "\n",
       "    .dataframe tbody tr th {\n",
       "        vertical-align: top;\n",
       "    }\n",
       "</style>\n",
       "<table border=\"1\" class=\"dataframe\">\n",
       "  <thead>\n",
       "    <tr style=\"text-align: right;\">\n",
       "      <th></th>\n",
       "      <th>Open</th>\n",
       "      <th>High</th>\n",
       "      <th>Low</th>\n",
       "      <th>Close</th>\n",
       "      <th>Volume</th>\n",
       "    </tr>\n",
       "    <tr>\n",
       "      <th>Date</th>\n",
       "      <th></th>\n",
       "      <th></th>\n",
       "      <th></th>\n",
       "      <th></th>\n",
       "      <th></th>\n",
       "    </tr>\n",
       "  </thead>\n",
       "  <tbody>\n",
       "    <tr>\n",
       "      <th>2017-10-09</th>\n",
       "      <td>155.81</td>\n",
       "      <td>156.73</td>\n",
       "      <td>155.48</td>\n",
       "      <td>155.84</td>\n",
       "      <td>16262923</td>\n",
       "    </tr>\n",
       "    <tr>\n",
       "      <th>2017-10-10</th>\n",
       "      <td>156.06</td>\n",
       "      <td>158.00</td>\n",
       "      <td>155.10</td>\n",
       "      <td>155.90</td>\n",
       "      <td>15617014</td>\n",
       "    </tr>\n",
       "    <tr>\n",
       "      <th>2017-10-11</th>\n",
       "      <td>155.97</td>\n",
       "      <td>156.98</td>\n",
       "      <td>155.75</td>\n",
       "      <td>156.55</td>\n",
       "      <td>16905640</td>\n",
       "    </tr>\n",
       "    <tr>\n",
       "      <th>2017-10-12</th>\n",
       "      <td>156.35</td>\n",
       "      <td>157.37</td>\n",
       "      <td>155.73</td>\n",
       "      <td>156.00</td>\n",
       "      <td>16125054</td>\n",
       "    </tr>\n",
       "    <tr>\n",
       "      <th>2017-10-13</th>\n",
       "      <td>156.73</td>\n",
       "      <td>157.28</td>\n",
       "      <td>156.41</td>\n",
       "      <td>156.99</td>\n",
       "      <td>16394188</td>\n",
       "    </tr>\n",
       "  </tbody>\n",
       "</table>\n",
       "</div>"
      ],
      "text/plain": [
       "              Open    High     Low   Close    Volume\n",
       "Date                                                \n",
       "2017-10-09  155.81  156.73  155.48  155.84  16262923\n",
       "2017-10-10  156.06  158.00  155.10  155.90  15617014\n",
       "2017-10-11  155.97  156.98  155.75  156.55  16905640\n",
       "2017-10-12  156.35  157.37  155.73  156.00  16125054\n",
       "2017-10-13  156.73  157.28  156.41  156.99  16394188"
      ]
     },
     "execution_count": 94,
     "metadata": {},
     "output_type": "execute_result"
    }
   ],
   "source": [
    "stock_data.tail()"
   ]
  },
  {
   "cell_type": "code",
   "execution_count": 95,
   "metadata": {},
   "outputs": [
    {
     "data": {
      "text/html": [
       "<div>\n",
       "<style>\n",
       "    .dataframe thead tr:only-child th {\n",
       "        text-align: right;\n",
       "    }\n",
       "\n",
       "    .dataframe thead th {\n",
       "        text-align: left;\n",
       "    }\n",
       "\n",
       "    .dataframe tbody tr th {\n",
       "        vertical-align: top;\n",
       "    }\n",
       "</style>\n",
       "<table border=\"1\" class=\"dataframe\">\n",
       "  <thead>\n",
       "    <tr style=\"text-align: right;\">\n",
       "      <th></th>\n",
       "      <th>Open</th>\n",
       "      <th>High</th>\n",
       "      <th>Low</th>\n",
       "      <th>Close</th>\n",
       "      <th>Volume</th>\n",
       "    </tr>\n",
       "    <tr>\n",
       "      <th>Date</th>\n",
       "      <th></th>\n",
       "      <th></th>\n",
       "      <th></th>\n",
       "      <th></th>\n",
       "      <th></th>\n",
       "    </tr>\n",
       "  </thead>\n",
       "  <tbody>\n",
       "    <tr>\n",
       "      <th>2016-10-18</th>\n",
       "      <td>118.18</td>\n",
       "      <td>118.21</td>\n",
       "      <td>117.45</td>\n",
       "      <td>117.47</td>\n",
       "      <td>24553478</td>\n",
       "    </tr>\n",
       "    <tr>\n",
       "      <th>2016-10-19</th>\n",
       "      <td>117.25</td>\n",
       "      <td>117.76</td>\n",
       "      <td>113.80</td>\n",
       "      <td>117.12</td>\n",
       "      <td>20034594</td>\n",
       "    </tr>\n",
       "    <tr>\n",
       "      <th>2016-10-20</th>\n",
       "      <td>116.86</td>\n",
       "      <td>117.38</td>\n",
       "      <td>116.33</td>\n",
       "      <td>117.06</td>\n",
       "      <td>24125801</td>\n",
       "    </tr>\n",
       "    <tr>\n",
       "      <th>2016-10-21</th>\n",
       "      <td>116.81</td>\n",
       "      <td>116.91</td>\n",
       "      <td>116.28</td>\n",
       "      <td>116.60</td>\n",
       "      <td>23192665</td>\n",
       "    </tr>\n",
       "    <tr>\n",
       "      <th>2016-10-24</th>\n",
       "      <td>117.10</td>\n",
       "      <td>117.74</td>\n",
       "      <td>117.00</td>\n",
       "      <td>117.65</td>\n",
       "      <td>23538673</td>\n",
       "    </tr>\n",
       "  </tbody>\n",
       "</table>\n",
       "</div>"
      ],
      "text/plain": [
       "              Open    High     Low   Close    Volume\n",
       "Date                                                \n",
       "2016-10-18  118.18  118.21  117.45  117.47  24553478\n",
       "2016-10-19  117.25  117.76  113.80  117.12  20034594\n",
       "2016-10-20  116.86  117.38  116.33  117.06  24125801\n",
       "2016-10-21  116.81  116.91  116.28  116.60  23192665\n",
       "2016-10-24  117.10  117.74  117.00  117.65  23538673"
      ]
     },
     "execution_count": 95,
     "metadata": {},
     "output_type": "execute_result"
    }
   ],
   "source": [
    "stock_data.head()"
   ]
  },
  {
   "cell_type": "markdown",
   "metadata": {},
   "source": [
    "## Generating a trading strategy\n",
    "\n",
    "    We want to implement a trading strategy based on simple moving averages (SMA). \n",
    "    We work with two SMAs:\n",
    "        short-term SMA over 42 days (SMA42)\n",
    "        long-term SMA over 252 days (SMA252)\n",
    "    We distinguish two constellations:\n",
    "        SMA42 > SMA252: buy signal, being long the market\n",
    "        SMA42 < SMA252: sell signal, being short the market"
   ]
  },
  {
   "cell_type": "code",
   "execution_count": 96,
   "metadata": {
    "collapsed": true
   },
   "outputs": [],
   "source": [
    "stock_data['SMA42'] = stock_data['Close'].rolling(window=42).mean()\n",
    "stock_data['SMA252'] = stock_data['Close'].rolling(window=252).mean()\n",
    "#stock_data.dropna(inplace=True)  # drop rows with NaN values"
   ]
  },
  {
   "cell_type": "code",
   "execution_count": 97,
   "metadata": {},
   "outputs": [
    {
     "data": {
      "text/html": [
       "<div>\n",
       "<style>\n",
       "    .dataframe thead tr:only-child th {\n",
       "        text-align: right;\n",
       "    }\n",
       "\n",
       "    .dataframe thead th {\n",
       "        text-align: left;\n",
       "    }\n",
       "\n",
       "    .dataframe tbody tr th {\n",
       "        vertical-align: top;\n",
       "    }\n",
       "</style>\n",
       "<table border=\"1\" class=\"dataframe\">\n",
       "  <thead>\n",
       "    <tr style=\"text-align: right;\">\n",
       "      <th></th>\n",
       "      <th>Open</th>\n",
       "      <th>High</th>\n",
       "      <th>Low</th>\n",
       "      <th>Close</th>\n",
       "      <th>Volume</th>\n",
       "      <th>SMA42</th>\n",
       "      <th>SMA252</th>\n",
       "    </tr>\n",
       "    <tr>\n",
       "      <th>Date</th>\n",
       "      <th></th>\n",
       "      <th></th>\n",
       "      <th></th>\n",
       "      <th></th>\n",
       "      <th></th>\n",
       "      <th></th>\n",
       "      <th></th>\n",
       "    </tr>\n",
       "  </thead>\n",
       "  <tbody>\n",
       "    <tr>\n",
       "      <th>2017-10-09</th>\n",
       "      <td>155.81</td>\n",
       "      <td>156.73</td>\n",
       "      <td>155.48</td>\n",
       "      <td>155.84</td>\n",
       "      <td>16262923</td>\n",
       "      <td>158.068095</td>\n",
       "      <td>NaN</td>\n",
       "    </tr>\n",
       "    <tr>\n",
       "      <th>2017-10-10</th>\n",
       "      <td>156.06</td>\n",
       "      <td>158.00</td>\n",
       "      <td>155.10</td>\n",
       "      <td>155.90</td>\n",
       "      <td>15617014</td>\n",
       "      <td>158.081905</td>\n",
       "      <td>NaN</td>\n",
       "    </tr>\n",
       "    <tr>\n",
       "      <th>2017-10-11</th>\n",
       "      <td>155.97</td>\n",
       "      <td>156.98</td>\n",
       "      <td>155.75</td>\n",
       "      <td>156.55</td>\n",
       "      <td>16905640</td>\n",
       "      <td>158.059762</td>\n",
       "      <td>NaN</td>\n",
       "    </tr>\n",
       "    <tr>\n",
       "      <th>2017-10-12</th>\n",
       "      <td>156.35</td>\n",
       "      <td>157.37</td>\n",
       "      <td>155.73</td>\n",
       "      <td>156.00</td>\n",
       "      <td>16125054</td>\n",
       "      <td>157.968095</td>\n",
       "      <td>NaN</td>\n",
       "    </tr>\n",
       "    <tr>\n",
       "      <th>2017-10-13</th>\n",
       "      <td>156.73</td>\n",
       "      <td>157.28</td>\n",
       "      <td>156.41</td>\n",
       "      <td>156.99</td>\n",
       "      <td>16394188</td>\n",
       "      <td>157.858333</td>\n",
       "      <td>NaN</td>\n",
       "    </tr>\n",
       "  </tbody>\n",
       "</table>\n",
       "</div>"
      ],
      "text/plain": [
       "              Open    High     Low   Close    Volume       SMA42  SMA252\n",
       "Date                                                                    \n",
       "2017-10-09  155.81  156.73  155.48  155.84  16262923  158.068095     NaN\n",
       "2017-10-10  156.06  158.00  155.10  155.90  15617014  158.081905     NaN\n",
       "2017-10-11  155.97  156.98  155.75  156.55  16905640  158.059762     NaN\n",
       "2017-10-12  156.35  157.37  155.73  156.00  16125054  157.968095     NaN\n",
       "2017-10-13  156.73  157.28  156.41  156.99  16394188  157.858333     NaN"
      ]
     },
     "execution_count": 97,
     "metadata": {},
     "output_type": "execute_result"
    }
   ],
   "source": [
    "stock_data.tail()"
   ]
  },
  {
   "cell_type": "code",
   "execution_count": 98,
   "metadata": {},
   "outputs": [
    {
     "data": {
      "text/plain": [
       "<matplotlib.axes._subplots.AxesSubplot at 0x117b87fd0>"
      ]
     },
     "execution_count": 98,
     "metadata": {},
     "output_type": "execute_result"
    },
    {
     "data": {
      "image/png": "[encoded data removed]",
      "text/plain": [
       "<matplotlib.figure.Figure at 0x1180cc450>"
      ]
     },
     "metadata": {},
     "output_type": "display_data"
    }
   ],
   "source": [
    "#In graphical terms, we want to be long in the market whenever the SMA42 line is above the SMA252 line and vice versa.\n",
    "stock_data[['Close', 'SMA42', 'SMA252']].plot(figsize=(10, 6))"
   ]
  },
  {
   "cell_type": "code",
   "execution_count": 51,
   "metadata": {},
   "outputs": [
    {
     "name": "stdout",
     "output_type": "stream",
     "text": [
      "<class 'pandas.core.frame.DataFrame'>\n",
      "DatetimeIndex: 251 entries, 2016-10-17 to 2017-10-13\n",
      "Data columns (total 7 columns):\n",
      "Open      250 non-null float64\n",
      "High      250 non-null float64\n",
      "Low       250 non-null float64\n",
      "Close     251 non-null float64\n",
      "Volume    251 non-null int64\n",
      "SMA42     210 non-null float64\n",
      "SMA252    0 non-null float64\n",
      "dtypes: float64(6), int64(1)\n",
      "memory usage: 15.7 KB\n"
     ]
    }
   ],
   "source": [
    "stock_data.info()"
   ]
  },
  {
   "cell_type": "code",
   "execution_count": 52,
   "metadata": {
    "collapsed": true
   },
   "outputs": [],
   "source": [
    "#This needs to be formalized for the calculations to come. \n",
    "#We represent \"being long the market\" by 1 and \"being short the market\" by -1.\n",
    "\n",
    "#vectorized evaluation of the trading condition/signal generation\n",
    "stock_data['position'] = np.where(stock_data['SMA42'] > stock_data['SMA252'], 1, -1)"
   ]
  },
  {
   "cell_type": "code",
   "execution_count": 53,
   "metadata": {},
   "outputs": [
    {
     "data": {
      "text/plain": [
       "(-1.1, 1.1)"
      ]
     },
     "execution_count": 53,
     "metadata": {},
     "output_type": "execute_result"
    },
    {
     "data": {
      "image/png": "[encoded data removed]",
      "text/plain": [
       "<matplotlib.figure.Figure at 0x117c17d10>"
      ]
     },
     "metadata": {},
     "output_type": "display_data"
    }
   ],
   "source": [
    "#Let us visualize the positions resulting from the signal. We start with a long position, do several re-positionings and end with a short position.\n",
    "stock_data[['Close', 'position']].plot(subplots=True, figsize=(10, 6))\n",
    "plt.ylim(-1.1, 1.1)  # adjust y-axis limits"
   ]
  },
  {
   "cell_type": "markdown",
   "metadata": {},
   "source": [
    "    Let us calculate the log returns as in the first module. \n",
    "    These are needed to judge the performance, i.e. to backtest, our SMA-based trading strategy. \n",
    "    We call the column market since these are the market returns."
   ]
  },
  {
   "cell_type": "code",
   "execution_count": 54,
   "metadata": {
    "collapsed": true
   },
   "outputs": [],
   "source": [
    "# vectorized calculation of log returns\n",
    "stock_data['market'] = np.log(stock_data['Close'] / stock_data['Close'].shift(1))"
   ]
  },
  {
   "cell_type": "markdown",
   "metadata": {},
   "source": [
    "Next, we can use the market returns to derive the strategy returns in vectorized fashion. Note the shift of the position column by one day, i.e. we have entered/maintained a position yesterday and today's returns. It now becomes clear, why 1 represents a long position and -1 a short position: we get the market return when we are long and -1 times the market return when we are short. All this makes obviously a number of simplifying assumptions (e.g. no transaction costs)."
   ]
  },
  {
   "cell_type": "code",
   "execution_count": 55,
   "metadata": {},
   "outputs": [],
   "source": [
    "# vectorized calculation of strategy returns\n",
    "stock_data['strategy'] = stock_data['position'].shift(1) * stock_data['market']"
   ]
  },
  {
   "cell_type": "markdown",
   "metadata": {},
   "source": [
    "Next, let us calculate the cumulative returns of the market vs. the trading strategy. This is straightforward since we work with log returns. We first calculate the cumulative sums (cumsum) and the apply the exponential function (np.exp) to the respective time series."
   ]
  },
  {
   "cell_type": "code",
   "execution_count": 56,
   "metadata": {},
   "outputs": [
    {
     "data": {
      "text/html": [
       "<div>\n",
       "<style>\n",
       "    .dataframe thead tr:only-child th {\n",
       "        text-align: right;\n",
       "    }\n",
       "\n",
       "    .dataframe thead th {\n",
       "        text-align: left;\n",
       "    }\n",
       "\n",
       "    .dataframe tbody tr th {\n",
       "        vertical-align: top;\n",
       "    }\n",
       "</style>\n",
       "<table border=\"1\" class=\"dataframe\">\n",
       "  <thead>\n",
       "    <tr style=\"text-align: right;\">\n",
       "      <th></th>\n",
       "      <th>market</th>\n",
       "      <th>strategy</th>\n",
       "    </tr>\n",
       "    <tr>\n",
       "      <th>Date</th>\n",
       "      <th></th>\n",
       "      <th></th>\n",
       "    </tr>\n",
       "  </thead>\n",
       "  <tbody>\n",
       "    <tr>\n",
       "      <th>2017-10-09</th>\n",
       "      <td>1.195734</td>\n",
       "      <td>0.836306</td>\n",
       "    </tr>\n",
       "    <tr>\n",
       "      <th>2017-10-10</th>\n",
       "      <td>1.198889</td>\n",
       "      <td>0.834106</td>\n",
       "    </tr>\n",
       "    <tr>\n",
       "      <th>2017-10-11</th>\n",
       "      <td>1.197476</td>\n",
       "      <td>0.835090</td>\n",
       "    </tr>\n",
       "    <tr>\n",
       "      <th>2017-10-12</th>\n",
       "      <td>1.198983</td>\n",
       "      <td>0.834040</td>\n",
       "    </tr>\n",
       "    <tr>\n",
       "      <th>2017-10-13</th>\n",
       "      <td>1.200443</td>\n",
       "      <td>0.833026</td>\n",
       "    </tr>\n",
       "  </tbody>\n",
       "</table>\n",
       "</div>"
      ],
      "text/plain": [
       "              market  strategy\n",
       "Date                          \n",
       "2017-10-09  1.195734  0.836306\n",
       "2017-10-10  1.198889  0.834106\n",
       "2017-10-11  1.197476  0.835090\n",
       "2017-10-12  1.198983  0.834040\n",
       "2017-10-13  1.200443  0.833026"
      ]
     },
     "execution_count": 56,
     "metadata": {},
     "output_type": "execute_result"
    }
   ],
   "source": [
    "stock_data[['market', 'strategy']].cumsum().apply(np.exp).tail()"
   ]
  },
  {
   "cell_type": "markdown",
   "metadata": {},
   "source": [
    "And the cumulative market vs. strategy returns visualized. As the numbers and the plot suggest, the strategy in this case outperforms the market by a considerable margin."
   ]
  },
  {
   "cell_type": "code",
   "execution_count": 57,
   "metadata": {},
   "outputs": [
    {
     "data": {
      "image/png": "[encoded data removed]",
      "text/plain": [
       "<matplotlib.figure.Figure at 0x117ee87d0>"
      ]
     },
     "metadata": {},
     "output_type": "display_data"
    }
   ],
   "source": [
    "stock_data[['market', 'strategy']].cumsum().apply(np.exp).plot(figsize=(10, 6));"
   ]
  },
  {
   "cell_type": "markdown",
   "metadata": {},
   "source": [
    "### Final consideration: \n",
    "    what about the relation between risk & return? Let us quickly do the math. The annualized return of the strategy is obviously higher that from the market ..."
   ]
  },
  {
   "cell_type": "code",
   "execution_count": 58,
   "metadata": {},
   "outputs": [
    {
     "data": {
      "text/plain": [
       "market      0.184152\n",
       "strategy   -0.184152\n",
       "dtype: float64"
      ]
     },
     "execution_count": 58,
     "metadata": {},
     "output_type": "execute_result"
    }
   ],
   "source": [
    "arets = stock_data[['market', 'strategy']].mean() * 252  # annualized returns\n",
    "arets"
   ]
  },
  {
   "cell_type": "markdown",
   "metadata": {},
   "source": [
    "\n",
    "    ... while the annualized volatility is more or less the same. The higher returns do not lead to higher risk in this case."
   ]
  },
  {
   "cell_type": "code",
   "execution_count": 59,
   "metadata": {},
   "outputs": [
    {
     "data": {
      "text/plain": [
       "market      0.074252\n",
       "strategy    0.074252\n",
       "dtype: float64"
      ]
     },
     "execution_count": 59,
     "metadata": {},
     "output_type": "execute_result"
    }
   ],
   "source": [
    "astds = stock_data[['market', 'strategy']].std() * 252 ** 0.5  # annualized volatility\n",
    "astds"
   ]
  },
  {
   "cell_type": "code",
   "execution_count": null,
   "metadata": {
    "collapsed": true
   },
   "outputs": [],
   "source": []
  },
  {
   "cell_type": "code",
   "execution_count": null,
   "metadata": {
    "collapsed": true
   },
   "outputs": [],
   "source": []
  },
  {
   "cell_type": "code",
   "execution_count": null,
   "metadata": {
    "collapsed": true
   },
   "outputs": [],
   "source": []
  },
  {
   "cell_type": "code",
   "execution_count": null,
   "metadata": {
    "collapsed": true
   },
   "outputs": [],
   "source": []
  }
 ],
 "metadata": {
  "kernelspec": {
   "display_name": "Python 2",
   "language": "python",
   "name": "python2"
  },
  "language_info": {
   "codemirror_mode": {
    "name": "ipython",
    "version": 2
   },
   "file_extension": ".py",
   "mimetype": "text/x-python",
   "name": "python",
   "nbconvert_exporter": "python",
   "pygments_lexer": "ipython2",
   "version": "2.7.13"
  }
 },
 "nbformat": 4,
 "nbformat_minor": 2
}
