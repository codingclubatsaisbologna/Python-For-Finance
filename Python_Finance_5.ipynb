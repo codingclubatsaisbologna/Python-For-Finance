{
 "cells": [
  {
   "cell_type": "markdown",
   "metadata": {
    "slideshow": {
     "slide_type": "slide"
    }
   },
   "source": [
    "<img src=\"http://hilpisch.com/tpq_logo.png\" alt=\"The Python Quants\" width=\"35%\" align=\"right\" border=\"0\"><br>"
   ]
  },
  {
   "cell_type": "markdown",
   "metadata": {},
   "source": [
    "# Python for Finance Course"
   ]
  },
  {
   "cell_type": "markdown",
   "metadata": {},
   "source": [
    "**Module 5 &mdash; Input/Output**\n",
    "\n",
    "[team@tpq.io](mailto:team@tpq.io) | [http://tpq.io](http://tpq.io)\n",
    "\n",
    "The Python Quants GmbH"
   ]
  },
  {
   "cell_type": "markdown",
   "metadata": {},
   "source": [
    "## Requirements"
   ]
  },
  {
   "cell_type": "markdown",
   "metadata": {},
   "source": [
    "Make sure to have installed locally a **comprehensive Python installation** like the [Anaconda](http://continuum.io/downloads) Python distribution.\n",
    "\n",
    "Alternatively, and more easily, register on the **[Quant Platform](http://pqp.io)** where you can execute this Jupyter Notebook file in the browser. After registration, you find all Jupyter Notebook files of this course in the folder `pffcourse`."
   ]
  },
  {
   "cell_type": "markdown",
   "metadata": {},
   "source": [
    "## Necessary Imports"
   ]
  },
  {
   "cell_type": "markdown",
   "metadata": {},
   "source": [
    "As usual, we need to **import certain modules/packages**."
   ]
  },
  {
   "cell_type": "code",
   "execution_count": 1,
   "metadata": {},
   "outputs": [],
   "source": [
    "import numpy as np  # array operations\n",
    "import pandas as pd  # time series management\n",
    "from pylab import plt\n",
    "plt.style.use('ggplot')\n",
    "# put all plots in the notebook itself\n",
    "%matplotlib inline"
   ]
  },
  {
   "cell_type": "markdown",
   "metadata": {},
   "source": [
    "## Generating Dummy Data"
   ]
  },
  {
   "cell_type": "markdown",
   "metadata": {},
   "source": [
    "This module is about **Input-Output operations** with regard to structured numerical data stored in-memory in a `DataFrame` object. We work in this module with dummy data that we generate via pseudo-random numbers usin NumPy."
   ]
  },
  {
   "cell_type": "code",
   "execution_count": 2,
   "metadata": {},
   "outputs": [],
   "source": [
    "data = np.round(np.random.standard_normal((10000, 5)), 3)"
   ]
  },
  {
   "cell_type": "markdown",
   "metadata": {},
   "source": [
    "We have now a **`ndarray` object** with 10,000 rows with five `float` objects each."
   ]
  },
  {
   "cell_type": "code",
   "execution_count": 3,
   "metadata": {},
   "outputs": [
    {
     "data": {
      "text/plain": [
       "array([[ 1.025, -1.79 , -0.033, -0.214, -0.771],\n",
       "       [ 0.144, -1.239,  1.335,  0.324,  2.554],\n",
       "       [-0.693,  0.421, -1.142, -0.142,  1.086],\n",
       "       [-1.373, -0.71 , -1.687, -1.703,  0.129]])"
      ]
     },
     "execution_count": 3,
     "metadata": {},
     "output_type": "execute_result"
    }
   ],
   "source": [
    "data[:4, :]"
   ]
  },
  {
   "cell_type": "markdown",
   "metadata": {},
   "source": [
    "Let us transform it to something similar to **financial time series data**."
   ]
  },
  {
   "cell_type": "code",
   "execution_count": 4,
   "metadata": {},
   "outputs": [],
   "source": [
    "data = data.cumsum(axis=0)  # cumulative sum"
   ]
  },
  {
   "cell_type": "markdown",
   "metadata": {},
   "source": [
    "We generate a **`DataFrame` object** from the data with hourly index."
   ]
  },
  {
   "cell_type": "code",
   "execution_count": 5,
   "metadata": {},
   "outputs": [],
   "source": [
    "index = pd.date_range(start='2017-1-1', periods=len(data), freq='H')"
   ]
  },
  {
   "cell_type": "code",
   "execution_count": 6,
   "metadata": {},
   "outputs": [],
   "source": [
    "data = pd.DataFrame(data, index=index, columns=['a', 'b', 'c', 'd', 'e'])"
   ]
  },
  {
   "cell_type": "markdown",
   "metadata": {},
   "source": [
    "Let us inspect the **first five rows** of the `DataFrame` object."
   ]
  },
  {
   "cell_type": "code",
   "execution_count": 7,
   "metadata": {},
   "outputs": [
    {
     "data": {
      "text/html": [
       "<div>\n",
       "<table border=\"1\" class=\"dataframe\">\n",
       "  <thead>\n",
       "    <tr style=\"text-align: right;\">\n",
       "      <th></th>\n",
       "      <th>a</th>\n",
       "      <th>b</th>\n",
       "      <th>c</th>\n",
       "      <th>d</th>\n",
       "      <th>e</th>\n",
       "    </tr>\n",
       "  </thead>\n",
       "  <tbody>\n",
       "    <tr>\n",
       "      <th>2017-01-01 00:00:00</th>\n",
       "      <td>1.025</td>\n",
       "      <td>-1.790</td>\n",
       "      <td>-0.033</td>\n",
       "      <td>-0.214</td>\n",
       "      <td>-0.771</td>\n",
       "    </tr>\n",
       "    <tr>\n",
       "      <th>2017-01-01 01:00:00</th>\n",
       "      <td>1.169</td>\n",
       "      <td>-3.029</td>\n",
       "      <td>1.302</td>\n",
       "      <td>0.110</td>\n",
       "      <td>1.783</td>\n",
       "    </tr>\n",
       "    <tr>\n",
       "      <th>2017-01-01 02:00:00</th>\n",
       "      <td>0.476</td>\n",
       "      <td>-2.608</td>\n",
       "      <td>0.160</td>\n",
       "      <td>-0.032</td>\n",
       "      <td>2.869</td>\n",
       "    </tr>\n",
       "    <tr>\n",
       "      <th>2017-01-01 03:00:00</th>\n",
       "      <td>-0.897</td>\n",
       "      <td>-3.318</td>\n",
       "      <td>-1.527</td>\n",
       "      <td>-1.735</td>\n",
       "      <td>2.998</td>\n",
       "    </tr>\n",
       "    <tr>\n",
       "      <th>2017-01-01 04:00:00</th>\n",
       "      <td>-0.487</td>\n",
       "      <td>-4.460</td>\n",
       "      <td>-3.175</td>\n",
       "      <td>-2.216</td>\n",
       "      <td>0.381</td>\n",
       "    </tr>\n",
       "  </tbody>\n",
       "</table>\n",
       "</div>"
      ],
      "text/plain": [
       "                         a      b      c      d      e\n",
       "2017-01-01 00:00:00  1.025 -1.790 -0.033 -0.214 -0.771\n",
       "2017-01-01 01:00:00  1.169 -3.029  1.302  0.110  1.783\n",
       "2017-01-01 02:00:00  0.476 -2.608  0.160 -0.032  2.869\n",
       "2017-01-01 03:00:00 -0.897 -3.318 -1.527 -1.735  2.998\n",
       "2017-01-01 04:00:00 -0.487 -4.460 -3.175 -2.216  0.381"
      ]
     },
     "execution_count": 7,
     "metadata": {},
     "output_type": "execute_result"
    }
   ],
   "source": [
    "data.head()  # the first five rows"
   ]
  },
  {
   "cell_type": "markdown",
   "metadata": {},
   "source": [
    "And also the **complete data set** visually."
   ]
  },
  {
   "cell_type": "code",
   "execution_count": 8,
   "metadata": {},
   "outputs": [
    {
     "data": {
      "image/png": "[encoded data removed]",
      "text/plain": [
       "<matplotlib.figure.Figure at 0x7f72ad46db50>"
      ]
     },
     "metadata": {},
     "output_type": "display_data"
    }
   ],
   "source": [
    "data.plot(figsize=(10, 6));"
   ]
  },
  {
   "cell_type": "markdown",
   "metadata": {},
   "source": [
    "## Binary Storage"
   ]
  },
  {
   "cell_type": "markdown",
   "metadata": {},
   "source": [
    "pandas allows to **efficiently store data** from a `DataFrame` object in binary format on disk using PyTables and the HDF5 database format. To this end, one uses the `HDFStore` function. The operation is simple and fast."
   ]
  },
  {
   "cell_type": "code",
   "execution_count": 9,
   "metadata": {},
   "outputs": [
    {
     "name": "stdout",
     "output_type": "stream",
     "text": [
      "CPU times: user 16 ms, sys: 0 ns, total: 16 ms\n",
      "Wall time: 15.9 ms\n"
     ]
    }
   ],
   "source": [
    "%%time\n",
    "h5 = pd.HDFStore('data.h5', 'w')  # open database for writing\n",
    "h5['data'] = data  # writing DataFrame object to database\n",
    "h5.close()  # closing the database"
   ]
  },
  {
   "cell_type": "markdown",
   "metadata": {},
   "source": [
    "**Reading data** from such a database is similarly simple and fast."
   ]
  },
  {
   "cell_type": "code",
   "execution_count": 10,
   "metadata": {},
   "outputs": [
    {
     "name": "stdout",
     "output_type": "stream",
     "text": [
      "CPU times: user 8 ms, sys: 0 ns, total: 8 ms\n",
      "Wall time: 9.5 ms\n"
     ]
    }
   ],
   "source": [
    "%%time\n",
    "h5 = pd.HDFStore('data.h5', 'r')  # open database for reading\n",
    "data_copy = h5['data']  # reading DataFrame object from database\n",
    "h5.close()  # closing the database"
   ]
  },
  {
   "cell_type": "code",
   "execution_count": 11,
   "metadata": {},
   "outputs": [
    {
     "data": {
      "text/html": [
       "<div>\n",
       "<table border=\"1\" class=\"dataframe\">\n",
       "  <thead>\n",
       "    <tr style=\"text-align: right;\">\n",
       "      <th></th>\n",
       "      <th>a</th>\n",
       "      <th>b</th>\n",
       "      <th>c</th>\n",
       "      <th>d</th>\n",
       "      <th>e</th>\n",
       "    </tr>\n",
       "  </thead>\n",
       "  <tbody>\n",
       "    <tr>\n",
       "      <th>2017-01-01 00:00:00</th>\n",
       "      <td>1.025</td>\n",
       "      <td>-1.790</td>\n",
       "      <td>-0.033</td>\n",
       "      <td>-0.214</td>\n",
       "      <td>-0.771</td>\n",
       "    </tr>\n",
       "    <tr>\n",
       "      <th>2017-01-01 01:00:00</th>\n",
       "      <td>1.169</td>\n",
       "      <td>-3.029</td>\n",
       "      <td>1.302</td>\n",
       "      <td>0.110</td>\n",
       "      <td>1.783</td>\n",
       "    </tr>\n",
       "    <tr>\n",
       "      <th>2017-01-01 02:00:00</th>\n",
       "      <td>0.476</td>\n",
       "      <td>-2.608</td>\n",
       "      <td>0.160</td>\n",
       "      <td>-0.032</td>\n",
       "      <td>2.869</td>\n",
       "    </tr>\n",
       "    <tr>\n",
       "      <th>2017-01-01 03:00:00</th>\n",
       "      <td>-0.897</td>\n",
       "      <td>-3.318</td>\n",
       "      <td>-1.527</td>\n",
       "      <td>-1.735</td>\n",
       "      <td>2.998</td>\n",
       "    </tr>\n",
       "    <tr>\n",
       "      <th>2017-01-01 04:00:00</th>\n",
       "      <td>-0.487</td>\n",
       "      <td>-4.460</td>\n",
       "      <td>-3.175</td>\n",
       "      <td>-2.216</td>\n",
       "      <td>0.381</td>\n",
       "    </tr>\n",
       "  </tbody>\n",
       "</table>\n",
       "</div>"
      ],
      "text/plain": [
       "                         a      b      c      d      e\n",
       "2017-01-01 00:00:00  1.025 -1.790 -0.033 -0.214 -0.771\n",
       "2017-01-01 01:00:00  1.169 -3.029  1.302  0.110  1.783\n",
       "2017-01-01 02:00:00  0.476 -2.608  0.160 -0.032  2.869\n",
       "2017-01-01 03:00:00 -0.897 -3.318 -1.527 -1.735  2.998\n",
       "2017-01-01 04:00:00 -0.487 -4.460 -3.175 -2.216  0.381"
      ]
     },
     "execution_count": 11,
     "metadata": {},
     "output_type": "execute_result"
    }
   ],
   "source": [
    "data_copy.head()  # quick check whether data is the same ..."
   ]
  },
  {
   "cell_type": "markdown",
   "metadata": {},
   "source": [
    "## Data as CSV Files"
   ]
  },
  {
   "cell_type": "markdown",
   "metadata": {},
   "source": [
    "Quite often, so-called **comma separated value (CSV)** files are used to exchange financial data. This text file based format can be processed by the majority of applications and languages used in practice. We first **export the data to a CSV file**."
   ]
  },
  {
   "cell_type": "code",
   "execution_count": 12,
   "metadata": {},
   "outputs": [
    {
     "name": "stdout",
     "output_type": "stream",
     "text": [
      "CPU times: user 40 ms, sys: 0 ns, total: 40 ms\n",
      "Wall time: 42.8 ms\n"
     ]
    }
   ],
   "source": [
    "%time data.to_csv('data.csv')"
   ]
  },
  {
   "cell_type": "markdown",
   "metadata": {},
   "source": [
    "Let us **read with Python** the first few lines."
   ]
  },
  {
   "cell_type": "code",
   "execution_count": 13,
   "metadata": {},
   "outputs": [
    {
     "name": "stdout",
     "output_type": "stream",
     "text": [
      ",a,b,c,d,e\n",
      "\n",
      "2017-01-01 00:00:00,1.025,-1.79,-0.033,-0.214,-0.771\n",
      "\n",
      "2017-01-01 01:00:00,1.169,-3.029,1.302,0.11,1.783\n",
      "\n",
      "2017-01-01 02:00:00,0.476,-2.608,0.16,-0.032,2.869\n",
      "\n",
      "2017-01-01 03:00:00,-0.897,-3.318,-1.527,-1.735,2.998\n",
      "\n"
     ]
    }
   ],
   "source": [
    "with open('data.csv') as f:  # open text file\n",
    "    for i in xrange(5):  # iteration\n",
    "        print f.readline()  # reading a line"
   ]
  },
  {
   "cell_type": "markdown",
   "metadata": {},
   "source": [
    "**Reading data from a CSV file with pandas** is also straightforward."
   ]
  },
  {
   "cell_type": "code",
   "execution_count": 14,
   "metadata": {},
   "outputs": [
    {
     "name": "stdout",
     "output_type": "stream",
     "text": [
      "CPU times: user 24 ms, sys: 0 ns, total: 24 ms\n",
      "Wall time: 25.8 ms\n"
     ]
    }
   ],
   "source": [
    "%time data_csv = pd.read_csv('data.csv', index_col=0, parse_dates=True)"
   ]
  },
  {
   "cell_type": "code",
   "execution_count": 15,
   "metadata": {},
   "outputs": [
    {
     "data": {
      "text/html": [
       "<div>\n",
       "<table border=\"1\" class=\"dataframe\">\n",
       "  <thead>\n",
       "    <tr style=\"text-align: right;\">\n",
       "      <th></th>\n",
       "      <th>a</th>\n",
       "      <th>b</th>\n",
       "      <th>c</th>\n",
       "      <th>d</th>\n",
       "      <th>e</th>\n",
       "    </tr>\n",
       "  </thead>\n",
       "  <tbody>\n",
       "    <tr>\n",
       "      <th>2017-01-01 00:00:00</th>\n",
       "      <td>1.025</td>\n",
       "      <td>-1.790</td>\n",
       "      <td>-0.033</td>\n",
       "      <td>-0.214</td>\n",
       "      <td>-0.771</td>\n",
       "    </tr>\n",
       "    <tr>\n",
       "      <th>2017-01-01 01:00:00</th>\n",
       "      <td>1.169</td>\n",
       "      <td>-3.029</td>\n",
       "      <td>1.302</td>\n",
       "      <td>0.110</td>\n",
       "      <td>1.783</td>\n",
       "    </tr>\n",
       "    <tr>\n",
       "      <th>2017-01-01 02:00:00</th>\n",
       "      <td>0.476</td>\n",
       "      <td>-2.608</td>\n",
       "      <td>0.160</td>\n",
       "      <td>-0.032</td>\n",
       "      <td>2.869</td>\n",
       "    </tr>\n",
       "    <tr>\n",
       "      <th>2017-01-01 03:00:00</th>\n",
       "      <td>-0.897</td>\n",
       "      <td>-3.318</td>\n",
       "      <td>-1.527</td>\n",
       "      <td>-1.735</td>\n",
       "      <td>2.998</td>\n",
       "    </tr>\n",
       "    <tr>\n",
       "      <th>2017-01-01 04:00:00</th>\n",
       "      <td>-0.487</td>\n",
       "      <td>-4.460</td>\n",
       "      <td>-3.175</td>\n",
       "      <td>-2.216</td>\n",
       "      <td>0.381</td>\n",
       "    </tr>\n",
       "  </tbody>\n",
       "</table>\n",
       "</div>"
      ],
      "text/plain": [
       "                         a      b      c      d      e\n",
       "2017-01-01 00:00:00  1.025 -1.790 -0.033 -0.214 -0.771\n",
       "2017-01-01 01:00:00  1.169 -3.029  1.302  0.110  1.783\n",
       "2017-01-01 02:00:00  0.476 -2.608  0.160 -0.032  2.869\n",
       "2017-01-01 03:00:00 -0.897 -3.318 -1.527 -1.735  2.998\n",
       "2017-01-01 04:00:00 -0.487 -4.460 -3.175 -2.216  0.381"
      ]
     },
     "execution_count": 15,
     "metadata": {},
     "output_type": "execute_result"
    }
   ],
   "source": [
    "data_csv.head()"
   ]
  },
  {
   "cell_type": "markdown",
   "metadata": {},
   "source": [
    "## Data as Excel File"
   ]
  },
  {
   "cell_type": "markdown",
   "metadata": {},
   "source": [
    "Another common use case is data storage and retrieval based on **Excel spreadsheet files**. Again, we start with the **export**. This operation is relatively slow."
   ]
  },
  {
   "cell_type": "code",
   "execution_count": 16,
   "metadata": {},
   "outputs": [
    {
     "name": "stdout",
     "output_type": "stream",
     "text": [
      "CPU times: user 1.08 s, sys: 36 ms, total: 1.12 s\n",
      "Wall time: 1.15 s\n"
     ]
    }
   ],
   "source": [
    "%time data.to_excel('data.xlsx')"
   ]
  },
  {
   "cell_type": "markdown",
   "metadata": {},
   "source": [
    "Next, we **read the data with pandas** from the Excel file."
   ]
  },
  {
   "cell_type": "code",
   "execution_count": 17,
   "metadata": {},
   "outputs": [
    {
     "name": "stdout",
     "output_type": "stream",
     "text": [
      "CPU times: user 588 ms, sys: 0 ns, total: 588 ms\n",
      "Wall time: 581 ms\n"
     ]
    }
   ],
   "source": [
    "%time data_xlsx = pd.read_excel('data.xlsx')"
   ]
  },
  {
   "cell_type": "code",
   "execution_count": 18,
   "metadata": {},
   "outputs": [
    {
     "data": {
      "text/html": [
       "<div>\n",
       "<table border=\"1\" class=\"dataframe\">\n",
       "  <thead>\n",
       "    <tr style=\"text-align: right;\">\n",
       "      <th></th>\n",
       "      <th>a</th>\n",
       "      <th>b</th>\n",
       "      <th>c</th>\n",
       "      <th>d</th>\n",
       "      <th>e</th>\n",
       "    </tr>\n",
       "  </thead>\n",
       "  <tbody>\n",
       "    <tr>\n",
       "      <th>2017-01-01 00:00:00</th>\n",
       "      <td>1.025</td>\n",
       "      <td>-1.790</td>\n",
       "      <td>-0.033</td>\n",
       "      <td>-0.214</td>\n",
       "      <td>-0.771</td>\n",
       "    </tr>\n",
       "    <tr>\n",
       "      <th>2017-01-01 01:00:00</th>\n",
       "      <td>1.169</td>\n",
       "      <td>-3.029</td>\n",
       "      <td>1.302</td>\n",
       "      <td>0.110</td>\n",
       "      <td>1.783</td>\n",
       "    </tr>\n",
       "    <tr>\n",
       "      <th>2017-01-01 02:00:00</th>\n",
       "      <td>0.476</td>\n",
       "      <td>-2.608</td>\n",
       "      <td>0.160</td>\n",
       "      <td>-0.032</td>\n",
       "      <td>2.869</td>\n",
       "    </tr>\n",
       "    <tr>\n",
       "      <th>2017-01-01 03:00:00</th>\n",
       "      <td>-0.897</td>\n",
       "      <td>-3.318</td>\n",
       "      <td>-1.527</td>\n",
       "      <td>-1.735</td>\n",
       "      <td>2.998</td>\n",
       "    </tr>\n",
       "    <tr>\n",
       "      <th>2017-01-01 04:00:00</th>\n",
       "      <td>-0.487</td>\n",
       "      <td>-4.460</td>\n",
       "      <td>-3.175</td>\n",
       "      <td>-2.216</td>\n",
       "      <td>0.381</td>\n",
       "    </tr>\n",
       "  </tbody>\n",
       "</table>\n",
       "</div>"
      ],
      "text/plain": [
       "                         a      b      c      d      e\n",
       "2017-01-01 00:00:00  1.025 -1.790 -0.033 -0.214 -0.771\n",
       "2017-01-01 01:00:00  1.169 -3.029  1.302  0.110  1.783\n",
       "2017-01-01 02:00:00  0.476 -2.608  0.160 -0.032  2.869\n",
       "2017-01-01 03:00:00 -0.897 -3.318 -1.527 -1.735  2.998\n",
       "2017-01-01 04:00:00 -0.487 -4.460 -3.175 -2.216  0.381"
      ]
     },
     "execution_count": 18,
     "metadata": {},
     "output_type": "execute_result"
    }
   ],
   "source": [
    "data_xlsx.head()"
   ]
  },
  {
   "cell_type": "markdown",
   "metadata": {},
   "source": [
    "## File Check"
   ]
  },
  {
   "cell_type": "markdown",
   "metadata": {},
   "source": [
    "Finally, a quick **check of the files** written."
   ]
  },
  {
   "cell_type": "code",
   "execution_count": 19,
   "metadata": {},
   "outputs": [
    {
     "name": "stdout",
     "output_type": "stream",
     "text": [
      "-rw-r--r-- 1 9276 33 590990 Jul 11 10:54 data.csv\r\n",
      "-rw-r--r-- 1 9276 33 487400 Jul 11 10:54 data.h5\r\n",
      "-rw-r--r-- 1 9276 33 453663 Jul 11 10:54 data.xlsx\r\n"
     ]
    }
   ],
   "source": [
    "!ls -n data.*"
   ]
  },
  {
   "cell_type": "markdown",
   "metadata": {},
   "source": [
    "And **cleaning up**."
   ]
  },
  {
   "cell_type": "code",
   "execution_count": 20,
   "metadata": {},
   "outputs": [],
   "source": [
    "!rm data.*"
   ]
  },
  {
   "cell_type": "markdown",
   "metadata": {},
   "source": [
    "## Closing Remarks"
   ]
  },
  {
   "cell_type": "markdown",
   "metadata": {},
   "source": [
    "This finishes the fifth module of the Python for Finance email course. In this module, you have learned:\n",
    "\n",
    "* how to generate dummy data that resembles financial time series data\n",
    "* how to store such data in binary format on disk using `pd.HDFStore` (PyTables, HDF5)\n",
    "* how to export the data to a CSV file and how to read from such a file\n",
    "* how to export the data to an Excel file and how to read from such a spreadsheet file\n",
    "\n",
    "Input-Output operations are very important in the practice of quants, analysts and data scientists. This module introduces some of the most frequently seen use cases in finance, using pandas' powerful capabilities."
   ]
  },
  {
   "cell_type": "markdown",
   "metadata": {},
   "source": [
    "## Exercises"
   ]
  },
  {
   "cell_type": "markdown",
   "metadata": {},
   "source": [
    "In order to master the material of this module, do the following:\n",
    "\n",
    "* generate another data set (e.g. more columns, more/fewer rows)\n",
    "* use a different `DatetimeIndex` object (e.g. minute frequency)\n",
    "* look up all the parameters of the `pd.read_csv` and `pd.read_excel` functions in the documentation\n",
    "* find a CSV file on the Internet containing financial (time series) data and import it to a `DataFrame` object; visualize this data\n",
    "* work with PyTables directly and store the NumPy `ndarray` object in a respective database"
   ]
  },
  {
   "cell_type": "markdown",
   "metadata": {},
   "source": [
    "## References"
   ]
  },
  {
   "cell_type": "markdown",
   "metadata": {},
   "source": [
    "You find background information for the topics covered in this module in the following book:\n",
    "\n",
    "* Hilpisch, Yves (2014): _Python for Finance_. O'Reilly, ch. 7."
   ]
  },
  {
   "cell_type": "markdown",
   "metadata": {
    "slideshow": {
     "slide_type": "slide"
    }
   },
   "source": [
    "<img src=\"http://hilpisch.com/tpq_logo.png\" alt=\"The Python Quants\" width=\"35%\" align=\"right\" border=\"0\"><br>\n",
    "\n",
    "<a href=\"http://tpq.io\" target=\"_blank\">http://tpq.io</a> | <a href=\"http://twitter.com/dyjh\" target=\"_blank\">@dyjh</a> | <a href=\"mailto:team@tpq.io\">team@tpq.io</a>\n",
    "\n",
    "**Quant Platform** |\n",
    "<a href=\"http://quant-platform.com\">http://quant-platform.com</a>\n",
    "\n",
    "**Python for Finance** |\n",
    "<a href=\"http://python-for-finance.com\" target=\"_blank\">Python for Finance @ O'Reilly</a>\n",
    "\n",
    "**Derivatives Analytics with Python** |\n",
    "<a href=\"http://derivatives-analytics-with-python.com\" target=\"_blank\">Derivatives Analytics @ Wiley Finance</a>\n",
    "\n",
    "**Listed Volatility and Variance Derivatives** |\n",
    "<a href=\"http://lvvd.tpq.io\" target=\"_blank\">Listed VV Derivatives @ Wiley Finance</a>"
   ]
  }
 ],
 "metadata": {
  "celltoolbar": "Slideshow",
  "kernelspec": {
   "display_name": "Python 2.7",
   "language": "python2",
   "name": "python2"
  },
  "language_info": {
   "codemirror_mode": {
    "name": "ipython",
    "version": 2
   },
   "file_extension": ".py",
   "mimetype": "text/x-python",
   "name": "python",
   "nbconvert_exporter": "python",
   "pygments_lexer": "ipython2",
   "version": "2.7.13"
  }
 },
 "nbformat": 4,
 "nbformat_minor": 1
}
