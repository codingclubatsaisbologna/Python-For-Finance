{
 "cells": [
  {
   "cell_type": "code",
   "execution_count": 1,
   "metadata": {
    "collapsed": true,
    "slideshow": {
     "slide_type": "-"
    }
   },
   "outputs": [],
   "source": [
    "import numpy as np\n",
    "import pandas as pd\n",
    "from pandas_datareader import data as web\n",
    "import matplotlib as mpl\n",
    "import matplotlib.pyplot as plt\n",
    "plt.style.use('ggplot')\n",
    "%matplotlib inline"
   ]
  },
  {
   "cell_type": "markdown",
   "metadata": {},
   "source": [
    "This module is about the **Markowitz Mean-Variance Portfolio Theoy (MVP)**. We need to retrieve some stock price data first to have something to work with. We build a portfolio of **tech companies**."
   ]
  },
  {
   "cell_type": "code",
   "execution_count": 2,
   "metadata": {
    "collapsed": true
   },
   "outputs": [],
   "source": [
    "symbols = ['AAPL', 'MSFT', 'YHOO', 'AMZN', 'GOOG']  # our symbols\n",
    "data = pd.DataFrame()  # empty DataFrame\n",
    "for sym in symbols:\n",
    "    data[sym] = web.DataReader(sym, data_source='google')['Close']"
   ]
  },
  {
   "cell_type": "markdown",
   "metadata": {},
   "source": [
    "Let us inspect the **final five rows** of the `DataFrame` object."
   ]
  },
  {
   "cell_type": "code",
   "execution_count": 3,
   "metadata": {},
   "outputs": [
    {
     "data": {
      "text/html": [
       "<div>\n",
       "<style>\n",
       "    .dataframe thead tr:only-child th {\n",
       "        text-align: right;\n",
       "    }\n",
       "\n",
       "    .dataframe thead th {\n",
       "        text-align: left;\n",
       "    }\n",
       "\n",
       "    .dataframe tbody tr th {\n",
       "        vertical-align: top;\n",
       "    }\n",
       "</style>\n",
       "<table border=\"1\" class=\"dataframe\">\n",
       "  <thead>\n",
       "    <tr style=\"text-align: right;\">\n",
       "      <th></th>\n",
       "      <th>AAPL</th>\n",
       "      <th>MSFT</th>\n",
       "      <th>YHOO</th>\n",
       "      <th>AMZN</th>\n",
       "      <th>GOOG</th>\n",
       "    </tr>\n",
       "    <tr>\n",
       "      <th>Date</th>\n",
       "      <th></th>\n",
       "      <th></th>\n",
       "      <th></th>\n",
       "      <th></th>\n",
       "      <th></th>\n",
       "    </tr>\n",
       "  </thead>\n",
       "  <tbody>\n",
       "    <tr>\n",
       "      <th>2017-07-24</th>\n",
       "      <td>152.09</td>\n",
       "      <td>73.60</td>\n",
       "      <td>58.15</td>\n",
       "      <td>1038.95</td>\n",
       "      <td>980.34</td>\n",
       "    </tr>\n",
       "    <tr>\n",
       "      <th>2017-07-25</th>\n",
       "      <td>152.74</td>\n",
       "      <td>74.19</td>\n",
       "      <td>58.07</td>\n",
       "      <td>1039.87</td>\n",
       "      <td>950.70</td>\n",
       "    </tr>\n",
       "    <tr>\n",
       "      <th>2017-07-26</th>\n",
       "      <td>153.46</td>\n",
       "      <td>74.05</td>\n",
       "      <td>58.90</td>\n",
       "      <td>1052.80</td>\n",
       "      <td>947.80</td>\n",
       "    </tr>\n",
       "    <tr>\n",
       "      <th>2017-07-27</th>\n",
       "      <td>150.56</td>\n",
       "      <td>73.16</td>\n",
       "      <td>58.43</td>\n",
       "      <td>1046.00</td>\n",
       "      <td>934.09</td>\n",
       "    </tr>\n",
       "    <tr>\n",
       "      <th>2017-07-28</th>\n",
       "      <td>149.50</td>\n",
       "      <td>73.04</td>\n",
       "      <td>59.20</td>\n",
       "      <td>1020.04</td>\n",
       "      <td>941.53</td>\n",
       "    </tr>\n",
       "  </tbody>\n",
       "</table>\n",
       "</div>"
      ],
      "text/plain": [
       "              AAPL   MSFT   YHOO     AMZN    GOOG\n",
       "Date                                             \n",
       "2017-07-24  152.09  73.60  58.15  1038.95  980.34\n",
       "2017-07-25  152.74  74.19  58.07  1039.87  950.70\n",
       "2017-07-26  153.46  74.05  58.90  1052.80  947.80\n",
       "2017-07-27  150.56  73.16  58.43  1046.00  934.09\n",
       "2017-07-28  149.50  73.04  59.20  1020.04  941.53"
      ]
     },
     "execution_count": 3,
     "metadata": {},
     "output_type": "execute_result"
    }
   ],
   "source": [
    "data.tail()  # the final five rows"
   ]
  },
  {
   "cell_type": "markdown",
   "metadata": {},
   "source": [
    "A **graphical comparison** of the complete time series data might also be helpful. We **normalize** the starting values to 100."
   ]
  },
  {
   "cell_type": "code",
   "execution_count": 5,
   "metadata": {},
   "outputs": [
    {
     "data": {
      "image/png": "[encoded data removed]",
      "text/plain": [
       "<matplotlib.figure.Figure at 0x118fb8950>"
      ]
     },
     "metadata": {},
     "output_type": "display_data"
    }
   ],
   "source": [
    "(data / data.ix[0] * 100).plot(figsize=(10, 6));"
   ]
  },
  {
   "cell_type": "markdown",
   "metadata": {},
   "source": [
    "## Portfolio Returns"
   ]
  },
  {
   "cell_type": "markdown",
   "metadata": {},
   "source": [
    "The first step in the calculation of a portfolio return is the calculation of the **annualized returns** of the different stocks based on the log returns for the respective time series."
   ]
  },
  {
   "cell_type": "code",
   "execution_count": 6,
   "metadata": {
    "collapsed": true
   },
   "outputs": [],
   "source": [
    "# vectorized calculation of the log returns\n",
    "log_rets = np.log(data / data.shift(1))"
   ]
  },
  {
   "cell_type": "code",
   "execution_count": 7,
   "metadata": {},
   "outputs": [
    {
     "data": {
      "text/plain": [
       "AAPL    0.210081\n",
       "MSFT    0.113643\n",
       "YHOO    0.164362\n",
       "AMZN    0.268743\n",
       "GOOG    0.145735\n",
       "dtype: float64"
      ]
     },
     "execution_count": 7,
     "metadata": {},
     "output_type": "execute_result"
    }
   ],
   "source": [
    "# annualized average log returns\n",
    "rets = log_rets.mean() * 252\n",
    "rets"
   ]
  },
  {
   "cell_type": "markdown",
   "metadata": {},
   "source": [
    "We now need to represent a **portfolio** by (normalized) weightings for the single stocks. Let us start with an equal weighting scheme."
   ]
  },
  {
   "cell_type": "code",
   "execution_count": 8,
   "metadata": {
    "collapsed": true
   },
   "outputs": [],
   "source": [
    "weights = np.array([0.2, 0.2, 0.2, 0.2, 0.2])  # equal weightings"
   ]
  },
  {
   "cell_type": "markdown",
   "metadata": {},
   "source": [
    "In mathematical terms, the portfolio return is given as\n",
    "\n",
    "\\begin{eqnarray*}\n",
    "\\mu_p &=& \\mathbf{E} \\left( \\sum_I w_i r_i \\right) \\\\\n",
    "        &=& \\sum_I w_i \\mathbf{E}\\left( r_i \\right) \\\\\n",
    "        &=& \\sum_I w_i \\mu_i \\\\\n",
    "        &=& w^T \\mu\n",
    "\\end{eqnarray*}\n",
    "\n",
    "where the $w_i$ are the weights for the single portfolio components and the $r_i$ are the respective returns."
   ]
  },
  {
   "cell_type": "markdown",
   "metadata": {},
   "source": [
    "We get for our specific case the following result."
   ]
  },
  {
   "cell_type": "code",
   "execution_count": 9,
   "metadata": {},
   "outputs": [
    {
     "data": {
      "text/plain": [
       "0.18051272965959389"
      ]
     },
     "execution_count": 9,
     "metadata": {},
     "output_type": "execute_result"
    }
   ],
   "source": [
    "np.dot(weights, rets)  # portfolio return (equal weights)"
   ]
  },
  {
   "cell_type": "markdown",
   "metadata": {},
   "source": [
    "## Portfolio Variance"
   ]
  },
  {
   "cell_type": "markdown",
   "metadata": {},
   "source": [
    "The calculation of the **portfolio variance** is a bit more involved. Let us start with the definition of the **covariance matrix** which is needed to this end.\n",
    "\n",
    "\\begin{eqnarray*}\n",
    "\\Sigma = \\begin{bmatrix}\n",
    "        \\sigma_{1}^2 \\ \\sigma_{12} \\ \\dots \\ \\sigma_{1I} \\\\\n",
    "        \\sigma_{21} \\ \\sigma_{2}^2 \\ \\dots \\ \\sigma_{2I} \\\\\n",
    "        \\vdots \\ \\vdots \\ \\ddots \\ \\vdots \\\\\n",
    "        \\sigma_{I1} \\ \\sigma_{I2} \\ \\dots \\ \\sigma_{I}^2\n",
    "    \\end{bmatrix}\n",
    "\\end{eqnarray*}\n",
    "\n",
    "Here, we have the variances of the single stocks on the diagonal and the covariances between two stocks in the other places."
   ]
  },
  {
   "cell_type": "markdown",
   "metadata": {},
   "source": [
    "In Python, this matrix is easily calculated."
   ]
  },
  {
   "cell_type": "code",
   "execution_count": 10,
   "metadata": {},
   "outputs": [
    {
     "data": {
      "text/html": [
       "<div>\n",
       "<style>\n",
       "    .dataframe thead tr:only-child th {\n",
       "        text-align: right;\n",
       "    }\n",
       "\n",
       "    .dataframe thead th {\n",
       "        text-align: left;\n",
       "    }\n",
       "\n",
       "    .dataframe tbody tr th {\n",
       "        vertical-align: top;\n",
       "    }\n",
       "</style>\n",
       "<table border=\"1\" class=\"dataframe\">\n",
       "  <thead>\n",
       "    <tr style=\"text-align: right;\">\n",
       "      <th></th>\n",
       "      <th>AAPL</th>\n",
       "      <th>MSFT</th>\n",
       "      <th>YHOO</th>\n",
       "      <th>AMZN</th>\n",
       "      <th>GOOG</th>\n",
       "    </tr>\n",
       "  </thead>\n",
       "  <tbody>\n",
       "    <tr>\n",
       "      <th>AAPL</th>\n",
       "      <td>0.065779</td>\n",
       "      <td>0.022743</td>\n",
       "      <td>0.023439</td>\n",
       "      <td>0.026780</td>\n",
       "      <td>0.025831</td>\n",
       "    </tr>\n",
       "    <tr>\n",
       "      <th>MSFT</th>\n",
       "      <td>0.022743</td>\n",
       "      <td>0.051064</td>\n",
       "      <td>0.025458</td>\n",
       "      <td>0.028812</td>\n",
       "      <td>0.026153</td>\n",
       "    </tr>\n",
       "    <tr>\n",
       "      <th>YHOO</th>\n",
       "      <td>0.023439</td>\n",
       "      <td>0.025458</td>\n",
       "      <td>0.088897</td>\n",
       "      <td>0.037406</td>\n",
       "      <td>0.030824</td>\n",
       "    </tr>\n",
       "    <tr>\n",
       "      <th>AMZN</th>\n",
       "      <td>0.026780</td>\n",
       "      <td>0.028812</td>\n",
       "      <td>0.037406</td>\n",
       "      <td>0.098447</td>\n",
       "      <td>0.039355</td>\n",
       "    </tr>\n",
       "    <tr>\n",
       "      <th>GOOG</th>\n",
       "      <td>0.025831</td>\n",
       "      <td>0.026153</td>\n",
       "      <td>0.030824</td>\n",
       "      <td>0.039355</td>\n",
       "      <td>0.058687</td>\n",
       "    </tr>\n",
       "  </tbody>\n",
       "</table>\n",
       "</div>"
      ],
      "text/plain": [
       "          AAPL      MSFT      YHOO      AMZN      GOOG\n",
       "AAPL  0.065779  0.022743  0.023439  0.026780  0.025831\n",
       "MSFT  0.022743  0.051064  0.025458  0.028812  0.026153\n",
       "YHOO  0.023439  0.025458  0.088897  0.037406  0.030824\n",
       "AMZN  0.026780  0.028812  0.037406  0.098447  0.039355\n",
       "GOOG  0.025831  0.026153  0.030824  0.039355  0.058687"
      ]
     },
     "execution_count": 10,
     "metadata": {},
     "output_type": "execute_result"
    }
   ],
   "source": [
    "log_rets.cov() * 252  # annualized covariance matrix"
   ]
  },
  {
   "cell_type": "markdown",
   "metadata": {},
   "source": [
    "Being equipped with the covariance matrix, the **portfolio variance** is defined as follows.\n",
    "\n",
    "\\begin{eqnarray*}\n",
    "\\sigma_p^2 &=& \\mathbf{E}\\left( (r - \\mu)^2 \\right) \\\\\n",
    "        &=& \\sum_{i \\in I}\\sum_{j \\in I} w_i w_j \\sigma_{ij} \\\\\n",
    "        &=& w^T \\Sigma w\n",
    "\\end{eqnarray*}"
   ]
  },
  {
   "cell_type": "markdown",
   "metadata": {},
   "source": [
    "In Python, using NumPy, this is again a straightforward calculation."
   ]
  },
  {
   "cell_type": "code",
   "execution_count": 11,
   "metadata": {},
   "outputs": [
    {
     "data": {
      "text/plain": [
       "0.037458996071931691"
      ]
     },
     "execution_count": 11,
     "metadata": {},
     "output_type": "execute_result"
    }
   ],
   "source": [
    "# portfolio variance\n",
    "pvar = np.dot(weights.T, np.dot(log_rets.cov() * 252, weights))\n",
    "pvar"
   ]
  },
  {
   "cell_type": "markdown",
   "metadata": {},
   "source": [
    "The **portfolio volatility** then is"
   ]
  },
  {
   "cell_type": "code",
   "execution_count": 12,
   "metadata": {},
   "outputs": [
    {
     "data": {
      "text/plain": [
       "0.19354326666647872"
      ]
     },
     "execution_count": 12,
     "metadata": {},
     "output_type": "execute_result"
    }
   ],
   "source": [
    "pvol = pvar ** 0.5\n",
    "pvol"
   ]
  },
  {
   "cell_type": "markdown",
   "metadata": {},
   "source": [
    "## Random Portfolio Compositions"
   ]
  },
  {
   "cell_type": "markdown",
   "metadata": {},
   "source": [
    "Next, let us generate a **random portfolio composition** and calculate the resulting portfolio return and variance."
   ]
  },
  {
   "cell_type": "code",
   "execution_count": 13,
   "metadata": {
    "collapsed": true
   },
   "outputs": [],
   "source": [
    "weights = np.random.random(5)  # random numbers\n",
    "weights /= np.sum(weights)  # normalization to 1"
   ]
  },
  {
   "cell_type": "code",
   "execution_count": 14,
   "metadata": {},
   "outputs": [
    {
     "data": {
      "text/plain": [
       "array([ 0.28787307,  0.22353269,  0.08510868,  0.2790184 ,  0.12446715])"
      ]
     },
     "execution_count": 14,
     "metadata": {},
     "output_type": "execute_result"
    }
   ],
   "source": [
    "weights  # random portfolio composition"
   ]
  },
  {
   "cell_type": "code",
   "execution_count": 15,
   "metadata": {},
   "outputs": [
    {
     "data": {
      "text/plain": [
       "0.19299162839611833"
      ]
     },
     "execution_count": 15,
     "metadata": {},
     "output_type": "execute_result"
    }
   ],
   "source": [
    "np.dot(weights, rets)  # portfolio return (random weights)"
   ]
  },
  {
   "cell_type": "code",
   "execution_count": 16,
   "metadata": {},
   "outputs": [
    {
     "data": {
      "text/plain": [
       "0.038629540489666186"
      ]
     },
     "execution_count": 16,
     "metadata": {},
     "output_type": "execute_result"
    }
   ],
   "source": [
    "# portfolio variance (random weights)\n",
    "np.dot(weights.T, np.dot(log_rets.cov() * 252, weights))"
   ]
  },
  {
   "cell_type": "markdown",
   "metadata": {},
   "source": [
    "We are now going to implement a **Monte Carlo simulation** for the portfolio weights and collect the resulting portfolio returns and volatilities."
   ]
  },
  {
   "cell_type": "code",
   "execution_count": 17,
   "metadata": {},
   "outputs": [
    {
     "name": "stdout",
     "output_type": "stream",
     "text": [
      "CPU times: user 4.86 s, sys: 13 ms, total: 4.87 s\n",
      "Wall time: 4.88 s\n"
     ]
    }
   ],
   "source": [
    "%%time\n",
    "prets = []\n",
    "pvols = []\n",
    "for p in xrange(5000):\n",
    "    weights = np.random.random(5)\n",
    "    weights /= np.sum(weights)\n",
    "    prets.append(np.sum(log_rets.mean() * weights) * 252)\n",
    "    pvols.append(np.sqrt(np.dot(weights.T, \n",
    "                        np.dot(log_rets.cov() * 252, weights))))\n",
    "prets = np.array(prets)\n",
    "pvols = np.array(pvols)\n",
    "portfolio = pd.DataFrame({'return': prets, 'volatility': pvols})"
   ]
  },
  {
   "cell_type": "markdown",
   "metadata": {},
   "source": [
    "The collected results allow for an **insightful visualization**. We can easily spot the area of the **minimum variance portfolio** and also see the **efficient frontier** quite well."
   ]
  },
  {
   "cell_type": "code",
   "execution_count": 18,
   "metadata": {},
   "outputs": [
    {
     "data": {
      "image/png": "[encoded data removed]",
      "text/plain": [
       "<matplotlib.figure.Figure at 0x119267910>"
      ]
     },
     "metadata": {},
     "output_type": "display_data"
    }
   ],
   "source": [
    "portfolio.plot(x='volatility', y='return', kind='scatter', figsize=(10, 6));"
   ]
  },
  {
   "cell_type": "markdown",
   "metadata": {},
   "source": [
    "## Closing Remarks"
   ]
  },
  {
   "cell_type": "markdown",
   "metadata": {},
   "source": [
    "This finishes the third module of the Python for Finance email course. In this module, you have learned:\n",
    "\n",
    "* how to collect stock price data for multiple symbols\n",
    "* how to calculate the return of a portfolio of multiple assets\n",
    "* how to calculate the portfolio variance by the use of the covariance matrix\n",
    "* how to simulate random portfolio compositions to visualize possible risk-return combinations\n",
    "\n",
    "The portfolio theory presented in this module dates back to 1952 and is still a cornerstone today in (quantitative) finance."
   ]
  },
  {
   "cell_type": "markdown",
   "metadata": {},
   "source": [
    "## Exercises"
   ]
  },
  {
   "cell_type": "markdown",
   "metadata": {},
   "source": [
    "In order to master the material of this module, do the following:\n",
    "\n",
    "* replace the symbols used by other symbols and/or add more symbols\n",
    "* work with different time horizons for the input data\n",
    "* write Python code to find the minimum variance portfolio\n",
    "* write Python code to find the portfolio compositions that make up the efficient frontier\n",
    "* write Python code to determine the capital market line given a risk-free asset"
   ]
  },
  {
   "cell_type": "markdown",
   "metadata": {},
   "source": [
    "## References"
   ]
  },
  {
   "cell_type": "markdown",
   "metadata": {},
   "source": [
    "You find background information for the topics covered in this module in the following book:\n",
    "\n",
    "* Hilpisch, Yves (2014): _Python for Finance_. O'Reilly, ch. 11."
   ]
  },
  {
   "cell_type": "code",
   "execution_count": null,
   "metadata": {
    "collapsed": true
   },
   "outputs": [],
   "source": []
  }
 ],
 "metadata": {
  "kernelspec": {
   "display_name": "Python 3",
   "language": "python",
   "name": "python3"
  },
  "language_info": {
   "codemirror_mode": {
    "name": "ipython",
    "version": 3
   },
   "file_extension": ".py",
   "mimetype": "text/x-python",
   "name": "python",
   "nbconvert_exporter": "python",
   "pygments_lexer": "ipython3",
   "version": "3.6.1"
  }
 },
 "nbformat": 4,
 "nbformat_minor": 1
}
